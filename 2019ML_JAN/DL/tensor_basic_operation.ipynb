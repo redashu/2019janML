{
 "cells": [
  {
   "cell_type": "code",
   "execution_count": 51,
   "metadata": {},
   "outputs": [],
   "source": [
    "import  tensorflow  as  tf"
   ]
  },
  {
   "cell_type": "code",
   "execution_count": 52,
   "metadata": {},
   "outputs": [],
   "source": [
    "# making tensor \n",
    "t1=tf.constant([2,4,5,6,77])\n",
    "t2=tf.constant([3,6,6,2,99])\n",
    "data=tf.fill((5,5),10)\n",
    "data1=tf.ones((6,6))\n",
    "data2=tf.zeros((7,7))\n",
    "data3=tf.random_normal((6,6))\n",
    "data4=tf.random_uniform((5,5),minval=2,maxval=5)"
   ]
  },
  {
   "cell_type": "code",
   "execution_count": 53,
   "metadata": {},
   "outputs": [],
   "source": [
    "mylist=[t1,t2,data,data1,data2,data3,data4]"
   ]
  },
  {
   "cell_type": "code",
   "execution_count": 57,
   "metadata": {},
   "outputs": [],
   "source": [
    "cpu_use=tf.Session()   # here we created cpu oriented sessiion\n",
    "#sess=tf.InteractiveSession()  #  this spcl for jupyter notebook"
   ]
  },
  {
   "cell_type": "code",
   "execution_count": 58,
   "metadata": {},
   "outputs": [
    {
     "name": "stdout",
     "output_type": "stream",
     "text": [
      "[ 2  4  5  6 77]\n",
      "\n",
      "\n",
      "[ 3  6  6  2 99]\n",
      "\n",
      "\n",
      "[[10 10 10 10 10]\n",
      " [10 10 10 10 10]\n",
      " [10 10 10 10 10]\n",
      " [10 10 10 10 10]\n",
      " [10 10 10 10 10]]\n",
      "\n",
      "\n",
      "[[1. 1. 1. 1. 1. 1.]\n",
      " [1. 1. 1. 1. 1. 1.]\n",
      " [1. 1. 1. 1. 1. 1.]\n",
      " [1. 1. 1. 1. 1. 1.]\n",
      " [1. 1. 1. 1. 1. 1.]\n",
      " [1. 1. 1. 1. 1. 1.]]\n",
      "\n",
      "\n",
      "[[0. 0. 0. 0. 0. 0. 0.]\n",
      " [0. 0. 0. 0. 0. 0. 0.]\n",
      " [0. 0. 0. 0. 0. 0. 0.]\n",
      " [0. 0. 0. 0. 0. 0. 0.]\n",
      " [0. 0. 0. 0. 0. 0. 0.]\n",
      " [0. 0. 0. 0. 0. 0. 0.]\n",
      " [0. 0. 0. 0. 0. 0. 0.]]\n",
      "\n",
      "\n",
      "[[ 1.367822    0.03836282  2.479859    1.736626    1.3627311   0.11490245]\n",
      " [-0.01929994  0.7363463  -0.45655158  2.3040419  -1.0234371  -0.4308329 ]\n",
      " [ 0.02991847 -1.7767011  -0.3020483  -0.5585455  -0.5949234  -0.34751582]\n",
      " [-0.6003621   0.6171138  -0.16234079 -0.49835092  1.5638386   2.0067732 ]\n",
      " [-0.257202    0.28869557 -1.1755829  -0.4889968  -0.3189896  -1.5687519 ]\n",
      " [ 1.2926434  -0.5439282   0.20137148  0.04919884 -0.17037518  0.70657593]]\n",
      "\n",
      "\n",
      "[[2.6187286 3.6269472 4.8500705 2.424852  4.864389 ]\n",
      " [4.0215797 3.0345993 4.6993647 4.7559814 4.743015 ]\n",
      " [3.2985272 2.2888808 3.0437918 4.7678666 4.3270683]\n",
      " [4.763182  2.0339499 2.58316   2.3044233 2.0662048]\n",
      " [3.596297  4.253461  2.837212  4.787863  2.9823127]]\n",
      "\n",
      "\n"
     ]
    }
   ],
   "source": [
    "for  i  in  mylist:\n",
    "    #print(sess.run(i))\n",
    "    print(i.eval())\n",
    "    print('\\n')\n",
    "\n",
    "cpu_use.close()"
   ]
  },
  {
   "cell_type": "code",
   "execution_count": null,
   "metadata": {},
   "outputs": [],
   "source": []
  },
  {
   "cell_type": "code",
   "execution_count": null,
   "metadata": {},
   "outputs": [],
   "source": []
  }
 ],
 "metadata": {
  "kernelspec": {
   "display_name": "Python 3",
   "language": "python",
   "name": "python3"
  },
  "language_info": {
   "codemirror_mode": {
    "name": "ipython",
    "version": 3
   },
   "file_extension": ".py",
   "mimetype": "text/x-python",
   "name": "python",
   "nbconvert_exporter": "python",
   "pygments_lexer": "ipython3",
   "version": "3.5.2"
  }
 },
 "nbformat": 4,
 "nbformat_minor": 2
}
